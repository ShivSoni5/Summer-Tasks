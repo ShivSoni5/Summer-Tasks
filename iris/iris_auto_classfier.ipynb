{
 "cells": [
  {
   "cell_type": "code",
   "execution_count": 1,
   "metadata": {},
   "outputs": [],
   "source": [
    "from sklearn.model_selection import train_test_split\n",
    "from sklearn.datasets import  load_iris\n",
    "from sklearn import tree\n",
    "from sklearn.metrics import accuracy_score\n",
    "\n",
    "iris = load_iris()\n"
   ]
  },
  {
   "cell_type": "code",
   "execution_count": 27,
   "metadata": {},
   "outputs": [
    {
     "name": "stdout",
     "output_type": "stream",
     "text": [
      "[1 1 1 2 2 0 2 1 1 0 1 0 2 2 0 1 2 1 0 0 2 2 0 1 0 0 0 1 0 1 1 0 0 1 1 0 2\n",
      " 1 1 0 0 1 0 2 1 2 2 0 0 2 0 2 2 0 1 0 0 1 2 1]\n"
     ]
    }
   ],
   "source": [
    "train_data,test_data,train_target,test_target = train_test_split(iris.data,iris.target,test_size=0.4)\n",
    "#print (test_data)\n",
    "print(test_target)"
   ]
  },
  {
   "cell_type": "code",
   "execution_count": 28,
   "metadata": {},
   "outputs": [
    {
     "name": "stdout",
     "output_type": "stream",
     "text": [
      "[1 1 1 2 2 0 2 1 1 0 1 0 2 2 0 1 2 1 0 0 2 2 0 1 0 0 0 1 0 1 1 0 0 1 1 0 2\n",
      " 1 1 0 0 1 0 2 1 2 2 0 0 2 0 2 2 0 1 0 0 1 2 1]\n"
     ]
    }
   ],
   "source": [
    "clf = tree.DecisionTreeClassifier()\n",
    "trained = clf.fit(train_data,train_target)\n",
    "predicted = trained.predict(test_data)\n",
    "print(predicted)"
   ]
  },
  {
   "cell_type": "code",
   "execution_count": 29,
   "metadata": {},
   "outputs": [
    {
     "name": "stdout",
     "output_type": "stream",
     "text": [
      "1.0\n"
     ]
    }
   ],
   "source": [
    "pct = accuracy_score(test_target,predicted)\n",
    "print(pct)"
   ]
  },
  {
   "cell_type": "code",
   "execution_count": null,
   "metadata": {},
   "outputs": [],
   "source": []
  }
 ],
 "metadata": {
  "kernelspec": {
   "display_name": "Python 3",
   "language": "python",
   "name": "python3"
  },
  "language_info": {
   "codemirror_mode": {
    "name": "ipython",
    "version": 3
   },
   "file_extension": ".py",
   "mimetype": "text/x-python",
   "name": "python",
   "nbconvert_exporter": "python",
   "pygments_lexer": "ipython3",
   "version": "3.6.5"
  }
 },
 "nbformat": 4,
 "nbformat_minor": 2
}
