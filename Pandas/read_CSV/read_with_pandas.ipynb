{
 "cells": [
  {
   "cell_type": "code",
   "execution_count": 1,
   "metadata": {},
   "outputs": [
    {
     "name": "stdout",
     "output_type": "stream",
     "text": [
      "             Name Hire Date   Salary  Sick Days remaining\n",
      "0  Graham Chapman  03/15/14  50000.0                   10\n",
      "1     John Cleese  06/01/15  65000.0                    8\n",
      "2       Eric Idle  05/12/14  45000.0                   10\n",
      "3     Terry Jones  11/01/13  70000.0                    3\n",
      "4   Terry Gilliam  08/12/14  48000.0                    7\n",
      "5   Michael Palin  05/23/13  66000.0                    8\n"
     ]
    }
   ],
   "source": [
    "import pandas\n",
    "df = pandas.read_csv('hrdata.csv')\n",
    "print(df)"
   ]
  },
  {
   "cell_type": "code",
   "execution_count": 2,
   "metadata": {},
   "outputs": [
    {
     "name": "stdout",
     "output_type": "stream",
     "text": [
      "<class 'str'>\n"
     ]
    }
   ],
   "source": [
    "print(type(df['Hire Date'][0]))"
   ]
  },
  {
   "cell_type": "code",
   "execution_count": 3,
   "metadata": {},
   "outputs": [
    {
     "name": "stdout",
     "output_type": "stream",
     "text": [
      "               Hire Date   Salary  Sick Days remaining\n",
      "Name                                                  \n",
      "Graham Chapman  03/15/14  50000.0                   10\n",
      "John Cleese     06/01/15  65000.0                    8\n",
      "Eric Idle       05/12/14  45000.0                   10\n",
      "Terry Jones     11/01/13  70000.0                    3\n",
      "Terry Gilliam   08/12/14  48000.0                    7\n",
      "Michael Palin   05/23/13  66000.0                    8\n"
     ]
    }
   ],
   "source": [
    "df = pandas.read_csv('hrdata.csv', index_col='Name')\n",
    "print(df)"
   ]
  },
  {
   "cell_type": "code",
   "execution_count": 4,
   "metadata": {},
   "outputs": [
    {
     "name": "stdout",
     "output_type": "stream",
     "text": [
      "                Hire Date   Salary  Sick Days remaining\n",
      "Name                                                   \n",
      "Graham Chapman 2014-03-15  50000.0                   10\n",
      "John Cleese    2015-06-01  65000.0                    8\n",
      "Eric Idle      2014-05-12  45000.0                   10\n",
      "Terry Jones    2013-11-01  70000.0                    3\n",
      "Terry Gilliam  2014-08-12  48000.0                    7\n",
      "Michael Palin  2013-05-23  66000.0                    8\n"
     ]
    }
   ],
   "source": [
    "df = pandas.read_csv('hrdata.csv', index_col='Name', parse_dates=['Hire Date'])\n",
    "print(df)"
   ]
  },
  {
   "cell_type": "code",
   "execution_count": 5,
   "metadata": {},
   "outputs": [
    {
     "name": "stdout",
     "output_type": "stream",
     "text": [
      "<class 'pandas._libs.tslibs.timestamps.Timestamp'>\n"
     ]
    }
   ],
   "source": [
    "print(type(df['Hire Date'][0]))"
   ]
  },
  {
   "cell_type": "code",
   "execution_count": 6,
   "metadata": {},
   "outputs": [
    {
     "name": "stdout",
     "output_type": "stream",
     "text": [
      "                    Hired   Salary  Sick Days\n",
      "Employee                                     \n",
      "Graham Chapman 2014-03-15  50000.0         10\n",
      "John Cleese    2015-06-01  65000.0          8\n",
      "Eric Idle      2014-05-12  45000.0         10\n",
      "Terry Jones    2013-11-01  70000.0          3\n",
      "Terry Gilliam  2014-08-12  48000.0          7\n",
      "Michael Palin  2013-05-23  66000.0          8\n"
     ]
    }
   ],
   "source": [
    "df = pandas.read_csv('hrdata.csv', \n",
    "            index_col='Employee', \n",
    "            parse_dates=['Hired'], \n",
    "            header=0, \n",
    "            names=['Employee', 'Hired','Salary', 'Sick Days'])\n",
    "print(df)"
   ]
  },
  {
   "cell_type": "code",
   "execution_count": null,
   "metadata": {},
   "outputs": [],
   "source": []
  }
 ],
 "metadata": {
  "kernelspec": {
   "display_name": "Python 3",
   "language": "python",
   "name": "python3"
  },
  "language_info": {
   "codemirror_mode": {
    "name": "ipython",
    "version": 3
   },
   "file_extension": ".py",
   "mimetype": "text/x-python",
   "name": "python",
   "nbconvert_exporter": "python",
   "pygments_lexer": "ipython3",
   "version": "3.6.5"
  }
 },
 "nbformat": 4,
 "nbformat_minor": 2
}
